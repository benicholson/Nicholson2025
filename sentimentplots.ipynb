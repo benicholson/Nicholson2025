{
 "cells": [
  {
   "cell_type": "code",
   "id": "initial_id",
   "metadata": {
    "collapsed": true,
    "ExecuteTime": {
     "end_time": "2025-05-02T13:58:09.370847Z",
     "start_time": "2025-05-02T13:58:07.464025Z"
    }
   },
   "source": [
    "import pandas as pd\n",
    "import matplotlib.pyplot as plt\n",
    "import matplotlib.dates as mdates\n",
    "\n",
    "# Load data\n",
    "file_path = \"immigration_comments_final_sentiment.csv\"\n",
    "df = pd.read_csv(file_path)\n",
    "\n",
    "# Parse dates\n",
    "df['Date'] = pd.to_datetime(df['Date'], errors='coerce')\n",
    "\n",
    "# Filter to target cities\n",
    "cities = ['Chicago', 'Denver', 'New York City', 'Philadelphia', 'Minneapolis', 'Los Angeles']\n",
    "df = df[df['City'].isin(cities)].copy()\n",
    "\n",
    "# Extract month\n",
    "df['Month'] = pd.to_datetime(df['Date'].dt.to_period('M').astype(str))\n",
    "\n",
    "# Map stance to sentiment labels\n",
    "sentiment_labels = {-1: 'Negative', 0: 'Neutral', 1: 'Positive'}\n",
    "df['Sentiment'] = df['Stance'].map(sentiment_labels)\n",
    "\n",
    "# Aggregate sentiment prevalence\n",
    "grouped = df.groupby(['City', 'Month', 'Sentiment']).size().reset_index(name='Count')\n",
    "total_by_month_city = df.groupby(['City', 'Month']).size().reset_index(name='Total')\n",
    "merged = pd.merge(grouped, total_by_month_city, on=['City', 'Month'])\n",
    "merged['Prevalence'] = merged['Count'] / merged['Total']\n",
    "merged = merged.sort_values(by='Month')\n",
    "\n",
    "# Treatment dates per city\n",
    "treatment_dates = {\n",
    "    'New York City': pd.to_datetime('2022-06-01'),\n",
    "    'Chicago': pd.to_datetime('2022-07-01'),\n",
    "    'Denver': pd.to_datetime('2022-11-01')\n",
    "}\n",
    "\n",
    "# Color mapping\n",
    "color_map = {'Negative': 'red', 'Neutral': 'green', 'Positive': 'blue'}\n",
    "\n",
    "# Plotting style\n",
    "plt.rcParams.update({\n",
    "    'font.family': 'serif',\n",
    "    'axes.edgecolor': 'black',\n",
    "    'axes.linewidth': 1,\n",
    "    'axes.labelsize': 12,\n",
    "    'axes.titlesize': 14,\n",
    "    'legend.fontsize': 10,\n",
    "    'xtick.labelsize': 10,\n",
    "    'ytick.labelsize': 10,\n",
    "    'figure.facecolor': 'white',\n",
    "    'axes.facecolor': 'white',\n",
    "    'savefig.facecolor': 'white',\n",
    "    'savefig.edgecolor': 'white',\n",
    "    'figure.dpi': 300\n",
    "})\n",
    "\n",
    "# One plot per city with 3-month rolling average\n",
    "for city in cities:\n",
    "    city_data = merged[merged['City'] == city]\n",
    "\n",
    "    fig, ax = plt.subplots(figsize=(10, 5))\n",
    "    for sentiment in ['Negative', 'Neutral', 'Positive']:\n",
    "        sentiment_data = city_data[city_data['Sentiment'] == sentiment].copy()\n",
    "        sentiment_data = sentiment_data.set_index('Month').sort_index()\n",
    "\n",
    "        # Apply 3-month rolling average\n",
    "        sentiment_data['Smoothed'] = sentiment_data['Prevalence'].rolling(window=3, center=True, min_periods=1).mean()\n",
    "\n",
    "        ax.plot(sentiment_data.index, sentiment_data['Smoothed'],\n",
    "                label=sentiment, color=color_map[sentiment], linewidth=2)\n",
    "\n",
    "    ax.set_title(f'Smoothed Sentiment Prevalence in {city}')\n",
    "    ax.set_xlabel('Month')\n",
    "    ax.set_ylabel('Proportion of Comments')\n",
    "    ax.xaxis.set_major_formatter(mdates.DateFormatter('%Y-%m'))\n",
    "    ax.xaxis.set_major_locator(mdates.MonthLocator(interval=3))\n",
    "    plt.xticks(rotation=45)\n",
    "\n",
    "    # Add treatment period line if available\n",
    "    if city in treatment_dates:\n",
    "        ax.axvline(treatment_dates[city], color='gray', linestyle='--', linewidth=1.5)\n",
    "\n",
    "    ax.legend()\n",
    "    ax.grid(True, which='both', linestyle='--', linewidth=0.5)\n",
    "    plt.tight_layout()\n",
    "    filename = f'sentiment_prevalence_{city.lower().replace(\" \", \"_\")}.png'\n",
    "    plt.savefig(filename)\n",
    "    plt.close()\n"
   ],
   "outputs": [
    {
     "name": "stderr",
     "output_type": "stream",
     "text": [
      "/var/folders/zb/bx5vr4ws4vz0hjl_m9z6vkl00000gn/T/ipykernel_15636/87828485.py:10: UserWarning: Could not infer format, so each element will be parsed individually, falling back to `dateutil`. To ensure parsing is consistent and as-expected, please specify a format.\n",
      "  df['Date'] = pd.to_datetime(df['Date'], errors='coerce')\n"
     ]
    }
   ],
   "execution_count": 3
  },
  {
   "metadata": {},
   "cell_type": "code",
   "outputs": [],
   "execution_count": null,
   "source": "",
   "id": "7105dd5b2d2dcadd"
  }
 ],
 "metadata": {
  "kernelspec": {
   "display_name": "Python 3",
   "language": "python",
   "name": "python3"
  },
  "language_info": {
   "codemirror_mode": {
    "name": "ipython",
    "version": 2
   },
   "file_extension": ".py",
   "mimetype": "text/x-python",
   "name": "python",
   "nbconvert_exporter": "python",
   "pygments_lexer": "ipython2",
   "version": "2.7.6"
  }
 },
 "nbformat": 4,
 "nbformat_minor": 5
}
